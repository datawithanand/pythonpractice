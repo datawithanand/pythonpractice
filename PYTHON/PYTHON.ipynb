{
 "metadata": {
  "kernelspec": {
   "display_name": "Streamlit Notebook",
   "name": "streamlit"
  },
  "lastEditStatus": {
   "notebookId": "v33rn6itnqa7pbe33lko",
   "authorId": "3158684672522",
   "authorName": "ANANDSURESH",
   "authorEmail": "anandsuresh05@gmail.com",
   "sessionId": "6127ec23-f3e4-485e-9c4b-e59ea3c6f062",
   "lastEditTime": 1757120615011
  }
 },
 "nbformat_minor": 5,
 "nbformat": 4,
 "cells": []
}